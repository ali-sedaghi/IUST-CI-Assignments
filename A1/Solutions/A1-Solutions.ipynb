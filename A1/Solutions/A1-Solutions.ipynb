{
  "nbformat": 4,
  "nbformat_minor": 0,
  "metadata": {
    "colab": {
      "name": "CI992_HW1.ipynb",
      "provenance": [],
      "collapsed_sections": []
    },
    "kernelspec": {
      "display_name": "Python 3",
      "language": "python",
      "name": "python3"
    },
    "language_info": {
      "codemirror_mode": {
        "name": "ipython",
        "version": 3
      },
      "file_extension": ".py",
      "mimetype": "text/x-python",
      "name": "python",
      "nbconvert_exporter": "python",
      "pygments_lexer": "ipython3",
      "version": "3.9.2"
    },
    "accelerator": "TPU"
  },
  "cells": [
    {
      "cell_type": "markdown",
      "metadata": {
        "id": "heBxPYfc0U22"
      },
      "source": [
        "# Your info\n",
        "\n",
        "Full name:Ali Sedaghi\n",
        "\n",
        "Student ID:97521378"
      ]
    },
    {
      "cell_type": "markdown",
      "metadata": {
        "id": "UBD007b3-ntJ"
      },
      "source": [
        "# Q1. Perceptron"
      ]
    },
    {
      "cell_type": "code",
      "metadata": {
        "id": "rld-5wsb1gZS"
      },
      "source": [
        "# Q1_graded\n",
        "\n",
        "# Imports\n",
        "\n",
        "import numpy as np\n",
        "import matplotlib.pyplot as plt\n",
        "np.random.seed(1)"
      ],
      "execution_count": 1,
      "outputs": []
    },
    {
      "cell_type": "code",
      "metadata": {
        "id": "7JfxCr5XSr9k"
      },
      "source": [
        "# Q1_graded\n",
        "\n",
        "# Utility functions\n",
        "\n",
        "def sigmoid(x):\n",
        "  return 1. / (1 + np.exp(-x))\n",
        "\n",
        "def predict(x, w, b):\n",
        "  return sigmoid(np.dot(w, x) + b)\n",
        "\n",
        "def CEE(y_predict, y):\n",
        "  m = y.shape[1]\n",
        "  loss = -1 * (y * np.log(y_predict) + (1 - y) * np.log(1 - y_predict))\n",
        "  cost = (1 / m) * np.sum(loss)\n",
        "  return loss, cost\n",
        "\n",
        "def MSE(y_predict, y):\n",
        "  m = y.shape[1]\n",
        "  loss = 1/2 * (y_predict - y)**2\n",
        "  cost = (1 / m) * np.sum(loss)\n",
        "  return loss, cost\n",
        "\n",
        "def computeAccuracy(y_predict, y):\n",
        "  return 100 - np.mean(np.abs(y_predict - y)) * 100"
      ],
      "execution_count": 2,
      "outputs": []
    },
    {
      "cell_type": "code",
      "metadata": {
        "id": "g5ISMYZ7_S2X"
      },
      "source": [
        "# Q1_graded\n",
        "\n",
        "# 1 Layer perceptron with batch gradient descent\n",
        "\n",
        "def perceptron(x, y, learning_rate, iterations, iter_log):\n",
        "  # Get dimensionals\n",
        "  feat, m = x.shape\n",
        "\n",
        "  # Init parameters\n",
        "  # In 1 layer NN initializing parameters to 0 or random doesn't matter\n",
        "  w = np.random.randn(1, feat) * 0.01\n",
        "  b = np.random.randn() * 0.01\n",
        "  costs = []\n",
        "  accuracies = []\n",
        "  \n",
        "  # Batch Gradient Descent\n",
        "  for i in range(iterations):\n",
        "    # Forward propagation\n",
        "    y_predict = predict(x, w, b)\n",
        "\n",
        "    # Cost and Accuracy\n",
        "    difference = y_predict - y\n",
        "    loss, cost = CEE(y_predict, y)\n",
        "    costs.append(cost)\n",
        "    accuracy = computeAccuracy(y_predict, y)\n",
        "    accuracies.append(accuracy)\n",
        "\n",
        "    # Backward propagation\n",
        "    dw = difference * x\n",
        "    db = difference\n",
        "    dW = (1 / m) * np.sum(dw, axis=1)\n",
        "    dB = (1 / m) * np.sum(db, axis=1)\n",
        "  \n",
        "    # Update parameters\n",
        "    w -= learning_rate * dW\n",
        "    b -= learning_rate * dB\n",
        "\n",
        "    # Print cost and accuracy\n",
        "    if (not iter_log == 0) and (i % iter_log == 0 or i == iterations - 1):\n",
        "      print('Iteration:', i, '  cost:', cost, ' accuracy:', accuracy)\n",
        "\n",
        "  report = {\n",
        "      'costs': costs,\n",
        "      'accuracies': accuracies\n",
        "  }\n",
        "\n",
        "  return w, b, report"
      ],
      "execution_count": 3,
      "outputs": []
    },
    {
      "cell_type": "code",
      "metadata": {
        "id": "PKs23FTj_SI8",
        "colab": {
          "base_uri": "https://localhost:8080/"
        },
        "outputId": "c4428428-bf7f-4c11-8ba8-413b3342db81"
      },
      "source": [
        "# Q1_graded\n",
        "\n",
        "# Data preprocessing\n",
        "\n",
        "x_train = np.array([\n",
        "  [0.0, 0.0, 1.0, 1.0], # Input feature x1\n",
        "  [0.0, 1.0, 0.1, 1.0], # Input feature x2\n",
        "])\n",
        "\n",
        "y_train = np.array([\n",
        "  [1.0, 0.0, 0.0, 0.0]\n",
        "])\n",
        "\n",
        "print(x_train.shape)\n",
        "print(y_train.shape)"
      ],
      "execution_count": 4,
      "outputs": [
        {
          "output_type": "stream",
          "text": [
            "(2, 4)\n",
            "(1, 4)\n"
          ],
          "name": "stdout"
        }
      ]
    },
    {
      "cell_type": "code",
      "metadata": {
        "colab": {
          "base_uri": "https://localhost:8080/"
        },
        "id": "MQUelRMNS2ag",
        "outputId": "0f4a1417-2450-465f-95ec-408938652a78"
      },
      "source": [
        "# Q1_graded\n",
        "\n",
        "# Training\n",
        "\n",
        "LEARNING_RATE = 0.4\n",
        "N_EPOCH = 2000\n",
        "REPORT_MOD = 100\n",
        "\n",
        "w, b, report = perceptron(x_train, y_train, LEARNING_RATE, N_EPOCH, REPORT_MOD)\n",
        "y_predict = predict(x_train, w, b)"
      ],
      "execution_count": 5,
      "outputs": [
        {
          "output_type": "stream",
          "text": [
            "Iteration: 0   cost: 0.6942907673465892  accuracy: 49.94327126977759\n",
            "Iteration: 100   cost: 0.1720877239902287  accuracy: 85.11776563650365\n",
            "Iteration: 200   cost: 0.10082973695097004  accuracy: 90.72794169583425\n",
            "Iteration: 300   cost: 0.07024261807555526  accuracy: 93.37266143644224\n",
            "Iteration: 400   cost: 0.05353838213164729  accuracy: 94.87789934718194\n",
            "Iteration: 500   cost: 0.04310556929937227  accuracy: 95.84014174689098\n",
            "Iteration: 600   cost: 0.0360051395636002  accuracy: 96.5048555366632\n",
            "Iteration: 700   cost: 0.030875421050974364  accuracy: 96.9900637260782\n",
            "Iteration: 800   cost: 0.027003293427662337  accuracy: 97.35910224139988\n",
            "Iteration: 900   cost: 0.023980700203902437  accuracy: 97.64884472764295\n",
            "Iteration: 1000   cost: 0.021557925975917252  accuracy: 97.88214949685398\n",
            "Iteration: 1100   cost: 0.019573880058338777  accuracy: 98.0739105468243\n",
            "Iteration: 1200   cost: 0.01792012957513101  accuracy: 98.23423355842537\n",
            "Iteration: 1300   cost: 0.016521085260455922  accuracy: 98.37020928014675\n",
            "Iteration: 1400   cost: 0.015322484087694493  accuracy: 98.48695556012893\n",
            "Iteration: 1500   cost: 0.01428438836785795  accuracy: 98.58825641035202\n",
            "Iteration: 1600   cost: 0.013376765951157072  accuracy: 98.67696847257447\n",
            "Iteration: 1700   cost: 0.012576607765895644  accuracy: 98.75528778309648\n",
            "Iteration: 1800   cost: 0.011865994207465294  accuracy: 98.82492969821135\n",
            "Iteration: 1900   cost: 0.011230765598760097  accuracy: 98.88725319510388\n",
            "Iteration: 1999   cost: 0.010665014225087597  accuracy: 98.94281541283395\n"
          ],
          "name": "stdout"
        }
      ]
    },
    {
      "cell_type": "code",
      "metadata": {
        "colab": {
          "base_uri": "https://localhost:8080/"
        },
        "id": "yIxOExTaoY-M",
        "outputId": "5190b60b-e43b-4e62-c410-cea9f66df95e"
      },
      "source": [
        "# Q1_graded\n",
        "\n",
        "# Report\n",
        "\n",
        "print(\"w: \", w)\n",
        "print(\"b: \", b)\n",
        "print(\"Predicted Output: \", np.around(y_predict, 3))"
      ],
      "execution_count": 6,
      "outputs": [
        {
          "output_type": "stream",
          "text": [
            "w:  [[-7.55667535 -8.38305651]]\n",
            "b:  [3.71753195]\n",
            "Predicted Output:  [[0.976 0.009 0.009 0.   ]]\n"
          ],
          "name": "stdout"
        }
      ]
    },
    {
      "cell_type": "markdown",
      "metadata": {
        "id": "VAAR47H8-5ML"
      },
      "source": [
        "# Q2. Binary Classification"
      ]
    },
    {
      "cell_type": "code",
      "metadata": {
        "id": "LV7Xa2Sx-6cV"
      },
      "source": [
        "# Q2_graded\n",
        "\n",
        "# Imports\n",
        "\n",
        "import numpy as np\n",
        "import matplotlib.pyplot as plt\n",
        "np.random.seed(1)"
      ],
      "execution_count": 7,
      "outputs": []
    },
    {
      "cell_type": "code",
      "metadata": {
        "id": "bMIDe8oc_TLW"
      },
      "source": [
        "# Q2_graded\n",
        "\n",
        "# Utility functions\n",
        "\n",
        "def sigmoid(x):\n",
        "  return 1. / (1 + np.exp(-x))\n",
        "\n",
        "def predict(x, w, b):\n",
        "  return sigmoid(np.dot(w, x) + b)\n",
        "\n",
        "def CEE(y_predict, y):\n",
        "  m = y.shape[1]\n",
        "  loss = -1 * (y * np.log(y_predict) + (1 - y) * np.log(1 - y_predict))\n",
        "  cost = (1 / m) * np.sum(loss)\n",
        "  return loss, cost\n",
        "\n",
        "def MSE(y_predict, y):\n",
        "  m = y.shape[1]\n",
        "  loss = 1/2 * (y_predict - y)**2\n",
        "  cost = (1 / m) * np.sum(loss)\n",
        "  return loss, cost\n",
        "\n",
        "def computeAccuracy(y_predict, y):\n",
        "  return 100 - np.mean(np.abs(y_predict - y)) * 100"
      ],
      "execution_count": 8,
      "outputs": []
    },
    {
      "cell_type": "code",
      "metadata": {
        "id": "M5auUdYc_Tc0"
      },
      "source": [
        "# Q2_graded\n",
        "\n",
        "# 1 Layer perceptron with batch gradient descent\n",
        "\n",
        "def perceptron(x, y, learning_rate, iterations, iter_log):\n",
        "  # Get dimensionals\n",
        "  feat, m = x.shape\n",
        "\n",
        "  # Init parameters\n",
        "  # In 1 layer NN initializing parameters to 0 or random doesn't matter\n",
        "  w = np.random.randn(1, feat) * 0.01\n",
        "  b = np.random.randn() * 0.01\n",
        "  costs = []\n",
        "  accuracies = []\n",
        "  \n",
        "  # Batch Gradient Descent\n",
        "  for i in range(iterations):\n",
        "    # Forward propagation\n",
        "    y_predict = predict(x, w, b)\n",
        "\n",
        "    # Cost and Accuracy\n",
        "    difference = y_predict - y\n",
        "    loss, cost = CEE(y_predict, y)\n",
        "    costs.append(cost)\n",
        "    accuracy = computeAccuracy(y_predict, y)\n",
        "    accuracies.append(accuracy)\n",
        "\n",
        "    # Backward propagation\n",
        "    dw = difference * x\n",
        "    db = difference\n",
        "    dW = (1 / m) * np.sum(dw, axis=1)\n",
        "    dB = (1 / m) * np.sum(db, axis=1)\n",
        "  \n",
        "    # Update parameters\n",
        "    w -= learning_rate * dW\n",
        "    b -= learning_rate * dB\n",
        "\n",
        "    # Print cost and accuracy\n",
        "    if (not iter_log == 0) and (i % iter_log == 0 or i == iterations - 1):\n",
        "      print('Iteration:', i, '  cost:', cost, ' accuracy:', accuracy)\n",
        "\n",
        "  report = {\n",
        "      'costs': costs,\n",
        "      'accuracies': accuracies\n",
        "  }\n",
        "\n",
        "  return w, b, report"
      ],
      "execution_count": 9,
      "outputs": []
    },
    {
      "cell_type": "code",
      "metadata": {
        "id": "XtFiXhy3cABB"
      },
      "source": [
        "# Q2_graded\n",
        "\n",
        "# Loading and preprocessing data\n",
        "\n",
        "x1, x2, y = np.loadtxt(\"/content/sample_data/data.txt\", delimiter = \",\", unpack=True)\n",
        "N_TRAIN = y.shape[0]\n",
        "\n",
        "x = np.concatenate((x1.reshape(1, N_TRAIN), x2.reshape(1, N_TRAIN)), axis=0)\n",
        "y_train = y.reshape(1, N_TRAIN)\n",
        "\n",
        "# Normalize and Standardlize data\n",
        "x_train = x - np.mean(x, axis=1, keepdims=True)\n",
        "x_train /= np.std(x_train, axis=1, keepdims=True)"
      ],
      "execution_count": 10,
      "outputs": []
    },
    {
      "cell_type": "code",
      "metadata": {
        "colab": {
          "base_uri": "https://localhost:8080/"
        },
        "id": "67AU-MTysGsO",
        "outputId": "e2691ed6-c31b-4eed-8ef0-1132200d3069"
      },
      "source": [
        "# Q2_graded\n",
        "\n",
        "# Training\n",
        "\n",
        "LEARNING_RATE = 0.1\n",
        "N_EPOCH = 2000\n",
        "REPORT_MOD = 100\n",
        "\n",
        "w, b, report = perceptron(x_train, y_train, LEARNING_RATE, N_EPOCH, REPORT_MOD)\n",
        "y_predict = predict(x_train, w, b)\n",
        "print(\"w: \", w)\n",
        "print(\"b: \", b)"
      ],
      "execution_count": 11,
      "outputs": [
        {
          "output_type": "stream",
          "text": [
            "Iteration: 0   cost: 0.6997386323358503  accuracy: 49.67247287024825\n",
            "Iteration: 100   cost: 0.3293826347925193  accuracy: 74.41222068955283\n",
            "Iteration: 200   cost: 0.28453972086161355  accuracy: 78.54778988687043\n",
            "Iteration: 300   cost: 0.26731348196643545  accuracy: 80.34406593742705\n",
            "Iteration: 400   cost: 0.2583970165500285  accuracy: 81.38075353977132\n",
            "Iteration: 500   cost: 0.25308964091601355  accuracy: 82.06551820535782\n",
            "Iteration: 600   cost: 0.24966168417320977  accuracy: 82.55496850926953\n",
            "Iteration: 700   cost: 0.24732558397132554  accuracy: 82.92337004643952\n",
            "Iteration: 800   cost: 0.2456720480640157  accuracy: 83.21093285250768\n",
            "Iteration: 900   cost: 0.24446820914466416  accuracy: 83.44151884736732\n",
            "Iteration: 1000   cost: 0.24357254123172753  accuracy: 83.6302758630361\n",
            "Iteration: 1100   cost: 0.24289460549305741  accuracy: 83.78733046212385\n",
            "Iteration: 1200   cost: 0.24237428771288042  accuracy: 83.91973575102769\n",
            "Iteration: 1300   cost: 0.2419703447807143  accuracy: 84.03257063327823\n",
            "Iteration: 1400   cost: 0.24165373679471272  accuracy: 84.12959483823816\n",
            "Iteration: 1500   cost: 0.24140356998970958  accuracy: 84.21365709793473\n",
            "Iteration: 1600   cost: 0.24120453557960436  accuracy: 84.2869592138278\n",
            "Iteration: 1700   cost: 0.24104524171779673  accuracy: 84.35123242771864\n",
            "Iteration: 1800   cost: 0.24091709770372696  accuracy: 84.40785850169685\n",
            "Iteration: 1900   cost: 0.24081355013461675  accuracy: 84.45795485379982\n",
            "Iteration: 1999   cost: 0.24073030624996797  accuracy: 84.50201608676159\n",
            "w:  [[-3.16978271  2.92738978]]\n",
            "b:  [1.35139477]\n"
          ],
          "name": "stdout"
        }
      ]
    },
    {
      "cell_type": "code",
      "metadata": {
        "colab": {
          "base_uri": "https://localhost:8080/",
          "height": 279
        },
        "id": "XTTC40DD1wjz",
        "outputId": "85c2ca74-e9f1-4025-e820-7dcd347f65b0"
      },
      "source": [
        "# Q2_graded\n",
        "\n",
        "# Cost plot\n",
        "\n",
        "plt.plot(report['costs'])\n",
        "plt.ylabel('cost')\n",
        "plt.xlabel('iterations')\n",
        "plt.show()"
      ],
      "execution_count": 12,
      "outputs": [
        {
          "output_type": "display_data",
          "data": {
            "image/png": "[encoded data removed]",
            "text/plain": [
              "<Figure size 432x288 with 1 Axes>"
            ]
          },
          "metadata": {
            "tags": [],
            "needs_background": "light"
          }
        }
      ]
    },
    {
      "cell_type": "code",
      "metadata": {
        "colab": {
          "base_uri": "https://localhost:8080/",
          "height": 265
        },
        "id": "wcmsw44rtYNb",
        "outputId": "57f74f14-e289-4b86-e1aa-4e0e61ff1d55"
      },
      "source": [
        "# Q2_graded\n",
        "\n",
        "# Learned function plot\n",
        "\n",
        "fig, ax = plt.subplots() \n",
        "\n",
        "o_points = x_train.T[y_train.T[:, 0] == 1]\n",
        "x_points = x_train.T[y_train.T[:, 0] == 0]\n",
        "\n",
        "ax.plot(o_points[:, 0], o_points[:, 1], 'o')\n",
        "ax.plot(x_points[:, 0], x_points[:, 1], 'x')\n",
        "\n",
        "x =  np.arange(-2, 3)\n",
        "ax.plot(x, ((b + w[0][0] * x) / (-w[0][1])))\n",
        "\n",
        "fig.show()"
      ],
      "execution_count": 13,
      "outputs": [
        {
          "output_type": "display_data",
          "data": {
            "image/png": "[encoded data removed]",
            "text/plain": [
              "<Figure size 432x288 with 1 Axes>"
            ]
          },
          "metadata": {
            "tags": [],
            "needs_background": "light"
          }
        }
      ]
    },
    {
      "cell_type": "code",
      "metadata": {
        "colab": {
          "base_uri": "https://localhost:8080/",
          "height": 279
        },
        "id": "OI_BiIIO9U9S",
        "outputId": "e24ffe3a-b93f-41b6-9cd7-4c8a5aca2d31"
      },
      "source": [
        "# Q2_graded\n",
        "\n",
        "# Another plot\n",
        "# Inspired by coursera deep learning notebooks\n",
        "\n",
        "import sklearn.linear_model\n",
        "\n",
        "clf = sklearn.linear_model.LogisticRegressionCV();\n",
        "clf.fit(x_train.T, y_train.T.reshape(N_TRAIN,));\n",
        "\n",
        "def plot_decision_boundary(model, X, y):\n",
        "    # Set min and max values and give it some padding\n",
        "    x_min, x_max = X[0, :].min() - 1, X[0, :].max() + 1\n",
        "    y_min, y_max = X[1, :].min() - 1, X[1, :].max() + 1\n",
        "    h = 0.01\n",
        "\n",
        "    # Generate a grid of points with distance h between them\n",
        "    xx, yy = np.meshgrid(np.arange(x_min, x_max, h), np.arange(y_min, y_max, h))\n",
        "\n",
        "    # Predict the function value for the whole grid\n",
        "    Z = model(np.c_[xx.ravel(), yy.ravel()])\n",
        "    Z = Z.reshape(xx.shape)\n",
        "\n",
        "    # Plot the contour and training examples\n",
        "    plt.contourf(xx, yy, Z, cmap=plt.cm.Spectral)\n",
        "    plt.ylabel('x2')\n",
        "    plt.xlabel('x1')\n",
        "    plt.scatter(X[0, :], X[1, :], c=y, cmap=plt.cm.Spectral)\n",
        "\n",
        "plot_decision_boundary(lambda x: clf.predict(x), x_train, y_train)"
      ],
      "execution_count": 14,
      "outputs": [
        {
          "output_type": "display_data",
          "data": {
            "image/png": "[encoded data removed]",
            "text/plain": [
              "<Figure size 432x288 with 1 Axes>"
            ]
          },
          "metadata": {
            "tags": [],
            "needs_background": "light"
          }
        }
      ]
    },
    {
      "cell_type": "markdown",
      "metadata": {
        "id": "gMWCmByc-7H5"
      },
      "source": [
        "# Q4. MLP"
      ]
    },
    {
      "cell_type": "code",
      "metadata": {
        "id": "wpWMwI6z--GX"
      },
      "source": [
        "# Q4_graded\n",
        "\n",
        "# Imports\n",
        "\n",
        "from keras.layers import *\n",
        "from keras.optimizers import *\n",
        "from keras.models import Sequential\n",
        "from keras.datasets import mnist\n",
        "from keras.utils import np_utils\n",
        "import numpy as np\n",
        "import matplotlib.pyplot as plt"
      ],
      "execution_count": 15,
      "outputs": []
    },
    {
      "cell_type": "code",
      "metadata": {
        "id": "kTmDh0Tw_Tuy",
        "colab": {
          "base_uri": "https://localhost:8080/"
        },
        "outputId": "105560b0-02f9-4b45-b157-98c2e99e5f55"
      },
      "source": [
        "# Q4_graded\n",
        "\n",
        "# Load dataset\n",
        "\n",
        "(x_train, y_train), (x_test, y_test) = mnist.load_data()"
      ],
      "execution_count": 16,
      "outputs": [
        {
          "output_type": "stream",
          "text": [
            "Downloading data from https://storage.googleapis.com/tensorflow/tf-keras-datasets/mnist.npz\n",
            "11493376/11490434 [==============================] - 0s 0us/step\n"
          ],
          "name": "stdout"
        }
      ]
    },
    {
      "cell_type": "code",
      "metadata": {
        "id": "8xDMqY-3YMhX"
      },
      "source": [
        "# Q4_graded\n",
        "\n",
        "# Global constants\n",
        "\n",
        "N_TRAIN, HEIGHT, WIDTH = x_train.shape\n",
        "N_TEST = x_test.shape[0]\n",
        "\n",
        "N_FEATURE = WIDTH * HEIGHT\n",
        "N_HIDDEN = 128\n",
        "N_CLASS = 10\n",
        "\n",
        "LOSS = 'categorical_crossentropy'\n",
        "OPTIMIZER = SGD()\n",
        "METRICS = ['accuracy']\n",
        "\n",
        "N_EPOCH = 20\n",
        "BATCH_SIZE = 128\n",
        "VERBOSE = 1\n",
        "VALIDATION_SPLIT = 0.2"
      ],
      "execution_count": 17,
      "outputs": []
    },
    {
      "cell_type": "code",
      "metadata": {
        "id": "frBeD-ka_UAJ"
      },
      "source": [
        "# Q4_graded\n",
        "\n",
        "# Data preprocessing\n",
        "\n",
        "x_train_flatten = x_train.reshape(N_TRAIN, -1)\n",
        "y_train_flatten = y_train.reshape(N_TRAIN, -1)\n",
        "x_test_flatten = x_test.reshape(N_TEST, -1)\n",
        "y_test_flatten = y_test.reshape(N_TEST, -1)\n",
        "\n",
        "# Normalize data\n",
        "X_train = x_train_flatten.astype('float32') / 255\n",
        "X_test = x_test_flatten.astype('float32') / 255\n",
        "\n",
        "# Categorize output into 10 classes\n",
        "Y_train = np_utils.to_categorical(y_train_flatten, N_CLASS)\n",
        "Y_test = np_utils.to_categorical(y_test_flatten, N_CLASS)"
      ],
      "execution_count": 18,
      "outputs": []
    },
    {
      "cell_type": "code",
      "metadata": {
        "id": "12Vl6nVlUq71"
      },
      "source": [
        "# Q4_graded\n",
        "\n",
        "# Model defining\n",
        "\n",
        "model = Sequential()\n",
        "\n",
        "# Input layer\n",
        "model.add(Dense(N_HIDDEN, input_shape=(N_FEATURE,)))\n",
        "model.add(Activation('relu'))\n",
        "\n",
        "# Hidden layer\n",
        "model.add(Dense(N_HIDDEN))\n",
        "model.add(Activation('relu'))\n",
        "\n",
        "# Output layer\n",
        "model.add(Dense(N_CLASS))\n",
        "model.add(Activation('softmax'))\n",
        "\n",
        "model.summary\n",
        "\n",
        "model.compile(\n",
        "  loss = LOSS,\n",
        "  optimizer = OPTIMIZER,\n",
        "  metrics = METRICS\n",
        ")"
      ],
      "execution_count": 19,
      "outputs": []
    },
    {
      "cell_type": "code",
      "metadata": {
        "colab": {
          "base_uri": "https://localhost:8080/"
        },
        "id": "8GQY9oItXMSw",
        "outputId": "b919f5de-df7f-44a6-e3c7-98b3f95b7042"
      },
      "source": [
        "# Q4_graded\n",
        "\n",
        "# Training and reports\n",
        "\n",
        "history = model.fit(\n",
        "  X_train, Y_train,\n",
        "  batch_size = BATCH_SIZE,\n",
        "  epochs = N_EPOCH,\n",
        "  verbose = VERBOSE,\n",
        "  validation_split = VALIDATION_SPLIT\n",
        ")"
      ],
      "execution_count": 20,
      "outputs": [
        {
          "output_type": "stream",
          "text": [
            "Epoch 1/20\n",
            "375/375 [==============================] - 3s 5ms/step - loss: 1.9325 - accuracy: 0.4239 - val_loss: 0.7628 - val_accuracy: 0.8362\n",
            "Epoch 2/20\n",
            "375/375 [==============================] - 2s 4ms/step - loss: 0.6799 - accuracy: 0.8378 - val_loss: 0.4526 - val_accuracy: 0.8858\n",
            "Epoch 3/20\n",
            "375/375 [==============================] - 2s 4ms/step - loss: 0.4600 - accuracy: 0.8767 - val_loss: 0.3724 - val_accuracy: 0.9002\n",
            "Epoch 4/20\n",
            "375/375 [==============================] - 2s 4ms/step - loss: 0.3883 - accuracy: 0.8925 - val_loss: 0.3346 - val_accuracy: 0.9071\n",
            "Epoch 5/20\n",
            "375/375 [==============================] - 2s 4ms/step - loss: 0.3571 - accuracy: 0.8992 - val_loss: 0.3112 - val_accuracy: 0.9132\n",
            "Epoch 6/20\n",
            "375/375 [==============================] - 2s 4ms/step - loss: 0.3224 - accuracy: 0.9100 - val_loss: 0.2942 - val_accuracy: 0.9183\n",
            "Epoch 7/20\n",
            "375/375 [==============================] - 2s 4ms/step - loss: 0.3076 - accuracy: 0.9119 - val_loss: 0.2805 - val_accuracy: 0.9214\n",
            "Epoch 8/20\n",
            "375/375 [==============================] - 2s 4ms/step - loss: 0.2886 - accuracy: 0.9174 - val_loss: 0.2680 - val_accuracy: 0.9244\n",
            "Epoch 9/20\n",
            "375/375 [==============================] - 2s 4ms/step - loss: 0.2743 - accuracy: 0.9225 - val_loss: 0.2588 - val_accuracy: 0.9273\n",
            "Epoch 10/20\n",
            "375/375 [==============================] - 2s 4ms/step - loss: 0.2612 - accuracy: 0.9259 - val_loss: 0.2492 - val_accuracy: 0.9299\n",
            "Epoch 11/20\n",
            "375/375 [==============================] - 2s 4ms/step - loss: 0.2536 - accuracy: 0.9282 - val_loss: 0.2423 - val_accuracy: 0.9320\n",
            "Epoch 12/20\n",
            "375/375 [==============================] - 2s 4ms/step - loss: 0.2484 - accuracy: 0.9296 - val_loss: 0.2338 - val_accuracy: 0.9352\n",
            "Epoch 13/20\n",
            "375/375 [==============================] - 2s 4ms/step - loss: 0.2347 - accuracy: 0.9327 - val_loss: 0.2273 - val_accuracy: 0.9379\n",
            "Epoch 14/20\n",
            "375/375 [==============================] - 2s 4ms/step - loss: 0.2342 - accuracy: 0.9347 - val_loss: 0.2218 - val_accuracy: 0.9378\n",
            "Epoch 15/20\n",
            "375/375 [==============================] - 1s 4ms/step - loss: 0.2245 - accuracy: 0.9362 - val_loss: 0.2151 - val_accuracy: 0.9404\n",
            "Epoch 16/20\n",
            "375/375 [==============================] - 2s 4ms/step - loss: 0.2169 - accuracy: 0.9390 - val_loss: 0.2095 - val_accuracy: 0.9435\n",
            "Epoch 17/20\n",
            "375/375 [==============================] - 1s 4ms/step - loss: 0.2117 - accuracy: 0.9405 - val_loss: 0.2038 - val_accuracy: 0.9438\n",
            "Epoch 18/20\n",
            "375/375 [==============================] - 2s 4ms/step - loss: 0.2007 - accuracy: 0.9427 - val_loss: 0.1992 - val_accuracy: 0.9462\n",
            "Epoch 19/20\n",
            "375/375 [==============================] - 2s 4ms/step - loss: 0.1981 - accuracy: 0.9440 - val_loss: 0.1941 - val_accuracy: 0.9475\n",
            "Epoch 20/20\n",
            "375/375 [==============================] - 1s 4ms/step - loss: 0.1935 - accuracy: 0.9449 - val_loss: 0.1896 - val_accuracy: 0.9475\n"
          ],
          "name": "stdout"
        }
      ]
    },
    {
      "cell_type": "code",
      "metadata": {
        "colab": {
          "base_uri": "https://localhost:8080/"
        },
        "id": "d6EtiwGJXNkS",
        "outputId": "a9db8e1c-9611-46ba-8337-7a190e8bd376"
      },
      "source": [
        "# Q4_graded\n",
        "\n",
        "# Evaluate on test data\n",
        "\n",
        "score = model.evaluate(X_test, Y_test, verbose=VERBOSE)\n",
        "print(\"Test score:\", score[0])\n",
        "print('Test accuracy:', score[1])"
      ],
      "execution_count": 21,
      "outputs": [
        {
          "output_type": "stream",
          "text": [
            "313/313 [==============================] - 0s 1ms/step - loss: 0.1908 - accuracy: 0.9454\n",
            "Test score: 0.19083556532859802\n",
            "Test accuracy: 0.9453999996185303\n"
          ],
          "name": "stdout"
        }
      ]
    },
    {
      "cell_type": "code",
      "metadata": {
        "colab": {
          "base_uri": "https://localhost:8080/",
          "height": 295
        },
        "id": "ESkPkt5hzs-Z",
        "outputId": "d271ee73-ffab-4e2e-c823-2a90513dc79c"
      },
      "source": [
        "# Q4_graded\n",
        "\n",
        "# Accuracy plot\n",
        "\n",
        "plt.plot(history.history['accuracy'])\n",
        "plt.plot(history.history['val_accuracy'])\n",
        "plt.title('Model accuracy')\n",
        "plt.ylabel('accuracy')\n",
        "plt.xlabel('iteration')\n",
        "plt.legend(['training', 'validation'], loc='lower right')\n",
        "plt.show()"
      ],
      "execution_count": 22,
      "outputs": [
        {
          "output_type": "display_data",
          "data": {
            "image/png": "[encoded data removed]",
            "text/plain": [
              "<Figure size 432x288 with 1 Axes>"
            ]
          },
          "metadata": {
            "tags": [],
            "needs_background": "light"
          }
        }
      ]
    },
    {
      "cell_type": "code",
      "metadata": {
        "colab": {
          "base_uri": "https://localhost:8080/",
          "height": 295
        },
        "id": "CDqRvE5Dz6IQ",
        "outputId": "978db094-ca9b-4a57-b75d-119e37960b13"
      },
      "source": [
        "# Q4_graded\n",
        "\n",
        "# Cost plot\n",
        "\n",
        "plt.plot(history.history['loss'])\n",
        "plt.plot(history.history['val_loss'])\n",
        "plt.title('Model cost')\n",
        "plt.ylabel('cost')\n",
        "plt.xlabel('iteration')\n",
        "plt.legend(['training', 'validation'], loc='upper right')\n",
        "plt.show()"
      ],
      "execution_count": 23,
      "outputs": [
        {
          "output_type": "display_data",
          "data": {
            "image/png": "[encoded data removed]",
            "text/plain": [
              "<Figure size 432x288 with 1 Axes>"
            ]
          },
          "metadata": {
            "tags": [],
            "needs_background": "light"
          }
        }
      ]
    },
    {
      "cell_type": "markdown",
      "metadata": {
        "id": "XYu2rMtB_FxI"
      },
      "source": [
        "# Q5. Back-Propagation"
      ]
    },
    {
      "cell_type": "code",
      "metadata": {
        "id": "zbCqds5p_Gx2"
      },
      "source": [
        "# Q5_graded\n",
        "\n",
        "# Imports\n",
        "\n",
        "import numpy as np\n",
        "import matplotlib.pyplot as plt\n",
        "np.random.seed(1)"
      ],
      "execution_count": 24,
      "outputs": []
    },
    {
      "cell_type": "code",
      "metadata": {
        "id": "MI-SvV4y-vof"
      },
      "source": [
        "# Q5_graded\n",
        "\n",
        "# Activation functions\n",
        "\n",
        "def relu(Z):\n",
        "  # Z as cache\n",
        "  A = np.maximum(0, Z)\n",
        "  return A, Z\n",
        "\n",
        "def reluBackward(dA, cache):\n",
        "  Z = cache\n",
        "  dZ = np.array(dA, copy=True)\n",
        "  dZ[Z <= 0] = 0\n",
        "  return dZ\n",
        "\n",
        "def sigmoid(Z):\n",
        "  # Z as cache\n",
        "  A = 1. / (1 + np.exp(-Z))\n",
        "  return A, Z\n",
        "\n",
        "def sigmoidBackward(dA, cache):\n",
        "  Z = cache\n",
        "  s = 1 / (1 + np.exp(-Z))\n",
        "  dZ = dA * s * (1 - s)\n",
        "  return dZ\n",
        "\n",
        "def softmax(Z):\n",
        "  # Z as cache\n",
        "  Z = Z - np.max(Z, axis=0, keepdims=True)\n",
        "  exponents = np.exp(Z)\n",
        "  A = exponents / np.sum(exponents, axis=0, keepdims=True)\n",
        "  return A, Z\n",
        "\n",
        "def softmaxBackward(dA, cache):\n",
        "  Z = cache\n",
        "  s, cache = softmax(Z)\n",
        "  dZ = dA * s * (1 - s)\n",
        "  return dZ"
      ],
      "execution_count": 25,
      "outputs": []
    },
    {
      "cell_type": "code",
      "metadata": {
        "id": "FDsarYSe7wRL"
      },
      "source": [
        "# Q5_graded\n",
        "\n",
        "# Cost and Accuracy functions\n",
        "\n",
        "def CEE(y_predict, y):\n",
        "  classes, m = y.shape\n",
        "  loss = -1 * (y * np.log(y_predict) + (1 - y) * np.log(1 - y_predict))\n",
        "  cost = (1 / m) * np.sum(loss)\n",
        "  return loss, cost\n",
        "  \n",
        "\n",
        "def classify(y):\n",
        "  # y shape : (classes, m)\n",
        "  classes, m = y.shape\n",
        "\n",
        "  # Binary classification\n",
        "  if classes == 1:\n",
        "    return np.greater_equal(y, 0.5, casting='same_kind')\n",
        "\n",
        "  # Multiclass classification\n",
        "  else:\n",
        "    return np.argmax(y, axis=0)\n",
        "\n",
        "def computeAccuracy(y_predict, y_real):\n",
        "  # y shape : (classes, m)\n",
        "  classes, m = y_real.shape\n",
        "\n",
        "  if classes == 1:\n",
        "    accuracy = 100 - np.mean(np.abs(y_predict - y_real)) * 100\n",
        "\n",
        "  else:\n",
        "    y_predict_classified = classify(y_predict)\n",
        "    y_real_classified = classify(y_real)\n",
        "    num_equals = np.sum(y_predict_classified == y_real_classified)\n",
        "    accuracy = num_equals / m\n",
        "\n",
        "  return accuracy"
      ],
      "execution_count": 26,
      "outputs": []
    },
    {
      "cell_type": "code",
      "metadata": {
        "id": "_DkIgkeD_Ubv"
      },
      "source": [
        "# Q5_graded\n",
        "\n",
        "# Initilize w and b to small random values for every layer\n",
        "\n",
        "def initParams(layers_dims):\n",
        "  parameters = {}\n",
        "  for l in range(1, len(layers_dims)):\n",
        "    parameters['W' + str(l)] = np.random.randn(layers_dims[l], layers_dims[l-1]) * 0.01\n",
        "    parameters['b' + str(l)] = np.random.randn(layers_dims[l], 1) * 0.01\n",
        "  return parameters"
      ],
      "execution_count": 27,
      "outputs": []
    },
    {
      "cell_type": "code",
      "metadata": {
        "id": "dVLmzv43_UrQ"
      },
      "source": [
        "# Q5_graded\n",
        "\n",
        "# Forward propagation\n",
        "\n",
        "# W: Weights of layer L\n",
        "# B: Bias term of layer L \n",
        "# A: Activated values from layer L-1\n",
        "# activation: Activation function of layer L\n",
        "\n",
        "# Linear forward to calculate Z = WA + B\n",
        "def linearForward(A, W, b):\n",
        "  Z = np.dot(W, A) + b\n",
        "  cache = (A, W, b)\n",
        "  return Z, cache\n",
        "\n",
        "# Activation forward after linear forward\n",
        "def linearActivationForward(A, W, b, activation):\n",
        "  Z, linear_cache = linearForward(A, W, b)\n",
        "  if activation == 'relu':\n",
        "    A, activation_cache = relu(Z)\n",
        "  elif activation == 'sigmoid':\n",
        "    A, activation_cache = sigmoid(Z)\n",
        "  elif activation == 'softmax':\n",
        "    A, activation_cache = softmax(Z)\n",
        "  cache = (linear_cache, activation_cache)\n",
        "  return A, cache\n",
        "\n",
        "# Forward propagation from layer 1 to L\n",
        "def forwardPropagate(X, parameters):\n",
        "  caches = []\n",
        "  L = len(parameters) // 2\n",
        "  A = X\n",
        "  # Layers 0->L-1 Relu forward propagation\n",
        "  for l in range(1, L):\n",
        "    W = parameters['W' + str(l)]\n",
        "    b = parameters['b' + str(l)]\n",
        "    A, cache = linearActivationForward(A, W, b, 'relu')\n",
        "    caches.append(cache)\n",
        "\n",
        "  # Layer L Sigmoid or Softmax forward propagation\n",
        "  W = parameters['W' + str(L)]\n",
        "  b = parameters['b' + str(L)]\n",
        "\n",
        "  # Binary classification\n",
        "  if W.shape[0] == 1:\n",
        "    A, cache = linearActivationForward(A, W, b, 'sigmoid')\n",
        "\n",
        "  # Multiclass classification\n",
        "  else:\n",
        "    A, cache = linearActivationForward(A, W, b, 'softmax')\n",
        "  \n",
        "  caches.append(cache)\n",
        "  return A, caches"
      ],
      "execution_count": 28,
      "outputs": []
    },
    {
      "cell_type": "code",
      "metadata": {
        "id": "SYZf6wjUC_oM"
      },
      "source": [
        "# Q5_graded\n",
        "\n",
        "# Backward propagation\n",
        "\n",
        "# dA: derivative of loss with respect of activation\n",
        "# dZ: derivative of loss with respect of Z\n",
        "# dW: derivative of loss with respect of W\n",
        "# dB: derivative of loss with respect of B\n",
        "\n",
        "# Computes dW and db\n",
        "def linearBackward(dZ, cache):\n",
        "  A_prev, W, b = cache\n",
        "  m = A_prev.shape[1]\n",
        "  dW = np.dot(dZ, cache[0].T) / m\n",
        "  db = np.sum(dZ, axis=1, keepdims=True) / m\n",
        "  dA_prev = np.dot(cache[1].T, dZ)\n",
        "  return dA_prev, dW, db\n",
        "\n",
        "# Computes dZ\n",
        "def linearActivationBackward(dA, cache, activation):\n",
        "  linear_cache, activation_cache = cache\n",
        "  if activation == 'relu':\n",
        "    dZ = reluBackward(dA, activation_cache)\n",
        "  elif activation == 'sigmoid':\n",
        "    dZ = sigmoidBackward(dA, activation_cache)\n",
        "  elif activation == 'softmax':\n",
        "    dZ = softmaxBackward(dA, activation_cache)\n",
        "  \n",
        "  dA_prev, dW, db = linearBackward(dZ, linear_cache)\n",
        "  return dA_prev, dW, db\n",
        "\n",
        "# Backward propagation from layer L to 1\n",
        "def backwardPropagate(A_last, Y, caches):\n",
        "  grads = {}\n",
        "  L = len(caches)\n",
        "\n",
        "  # Backpropagation for last layer L : sigmoid or softmax\n",
        "  # CEE derivative\n",
        "  current_cache = caches[-1]\n",
        "  dA_last = - (np.divide(Y, A_last) - np.divide(1 - Y, 1 - A_last))\n",
        "\n",
        "  # Binary classification\n",
        "  if Y.shape[0] == 1:\n",
        "    dA_prev_temp, dW_temp, db_temp = linearActivationBackward(\n",
        "      dA_last,\n",
        "      current_cache,\n",
        "      activation=\"sigmoid\"\n",
        "    )\n",
        "  \n",
        "  # Multiclass classification\n",
        "  else:\n",
        "    dA_prev_temp, dW_temp, db_temp = linearActivationBackward(\n",
        "      dA_last,\n",
        "      current_cache,\n",
        "      activation=\"softmax\"\n",
        "    )\n",
        "  \n",
        "  grads[\"dA\" + str(L)] = dA_prev_temp\n",
        "  grads[\"dW\" + str(L)] = dW_temp\n",
        "  grads[\"db\" + str(L)] = db_temp\n",
        "\n",
        "\n",
        "  # Backpropagation for layer L-1 to 1 : relu\n",
        "  for l in reversed(range(L-1)):\n",
        "    current_cache = caches[l]\n",
        "    dA = grads[\"dA\" + str(l + 2)]\n",
        "    dA_prev_temp, dW_temp, db_temp = linearActivationBackward(\n",
        "        dA,\n",
        "        current_cache,\n",
        "        activation=\"relu\"\n",
        "    )\n",
        "    grads[\"dA\" + str(l + 1)] = dA_prev_temp\n",
        "    grads[\"dW\" + str(l + 1)] = dW_temp\n",
        "    grads[\"db\" + str(l + 1)] = db_temp\n",
        "\n",
        "  return grads"
      ],
      "execution_count": 29,
      "outputs": []
    },
    {
      "cell_type": "code",
      "metadata": {
        "id": "vzc7Ms_xGImm"
      },
      "source": [
        "# Q5_graded\n",
        "\n",
        "# Update parameters\n",
        "\n",
        "def updateParameters(parameters, gradients, learning_rate):\n",
        "  L = len(parameters) // 2\n",
        "\n",
        "  for l in range(L):\n",
        "    W = parameters['W' + str(l+1)]\n",
        "    dW = gradients['dW' + str(l+1)]\n",
        "    parameters['W' + str(l+1)] = W - learning_rate * dW\n",
        "\n",
        "    b = parameters['b' + str(l+1)]\n",
        "    db = gradients['db' + str(l+1)]\n",
        "    parameters['b' + str(l+1)] = b - learning_rate * db\n",
        "\n",
        "  return parameters"
      ],
      "execution_count": 30,
      "outputs": []
    },
    {
      "cell_type": "code",
      "metadata": {
        "id": "ZFOZ--wfVdPE"
      },
      "source": [
        "# Q5_graded\n",
        "\n",
        "# Model Wrapper\n",
        "\n",
        "def model(X, Y, layers_dims, iterations, learning_rate, iter_log):\n",
        "  # Get dimensionals\n",
        "  feat, m = X.shape\n",
        "\n",
        "  # Init parameters\n",
        "  parameters = initParams(layers_dims)\n",
        "  costs = []\n",
        "  accuracies = []\n",
        "\n",
        "  for i in range(iterations):\n",
        "    # Forward propagation\n",
        "    A_last, caches = forwardPropagate(X, parameters)\n",
        "\n",
        "    # Cost and Accuracy\n",
        "    difference = A_last - Y\n",
        "    loss, cost = CEE(A_last, Y)\n",
        "    costs.append(cost)\n",
        "    accuracy = computeAccuracy(A_last, Y)\n",
        "    accuracies.append(accuracy)\n",
        "\n",
        "    # Backward propagation\n",
        "    gradients = backwardPropagate(A_last, Y, caches)\n",
        "\n",
        "    # Update paramaters\n",
        "    parameters = updateParameters(parameters, gradients, learning_rate)\n",
        "    \n",
        "    # Print cost and accuracy\n",
        "    if (not iter_log == 0) and (i % iter_log == 0 or i == iterations - 1):\n",
        "      print('Iteration:', i, '  cost:', cost, ' accuracy:', accuracy)\n",
        "\n",
        "  report = {\n",
        "    'costs': costs,\n",
        "    'accuracies': accuracies\n",
        "  }\n",
        "\n",
        "  return parameters, report"
      ],
      "execution_count": 31,
      "outputs": []
    },
    {
      "cell_type": "code",
      "metadata": {
        "colab": {
          "base_uri": "https://localhost:8080/"
        },
        "id": "BYUadBRTZj39",
        "outputId": "c5783938-2289-4845-f1ed-cbf00ff8218f"
      },
      "source": [
        "# Q5_graded\n",
        "\n",
        "# Test on data Q2 || Binary Classification\n",
        "\n",
        "x1, x2, y = np.loadtxt(\"/content/sample_data/data.txt\", delimiter = \",\", unpack=True)\n",
        "N_TRAIN = y.shape[0]\n",
        "N_FEATURE = 2\n",
        "x = np.concatenate((x1.reshape(1, N_TRAIN), x2.reshape(1, N_TRAIN)), axis=0)\n",
        "y_train = y.reshape(1, N_TRAIN)\n",
        "x_train = x - np.mean(x, axis=1, keepdims=True)\n",
        "x_train /= np.std(x_train, axis=1, keepdims=True)\n",
        "\n",
        "LAYERS = [N_FEATURE, 10, 10, 1]\n",
        "N_EPOCH = 2000\n",
        "LEARNING_RATE = 0.2\n",
        "REPORT_MOD = 100\n",
        "\n",
        "parameters, report = model(x_train, y_train, LAYERS, N_EPOCH, LEARNING_RATE, REPORT_MOD)"
      ],
      "execution_count": 32,
      "outputs": [
        {
          "output_type": "stream",
          "text": [
            "Iteration: 0   cost: 0.6934483426144844  accuracy: 49.98499772416613\n",
            "Iteration: 100   cost: 0.6730122207654989  accuracy: 51.98623912214583\n",
            "Iteration: 200   cost: 0.6730094247375606  accuracy: 52.00003738842569\n",
            "Iteration: 300   cost: 0.6730067241641597  accuracy: 52.00028593109129\n",
            "Iteration: 400   cost: 0.6730018474393756  accuracy: 52.00054529183026\n",
            "Iteration: 500   cost: 0.672991549760715  accuracy: 52.001072756285375\n",
            "Iteration: 600   cost: 0.6729653108088902  accuracy: 52.002374295148314\n",
            "Iteration: 700   cost: 0.6728767118082374  accuracy: 52.006707790126\n",
            "Iteration: 800   cost: 0.6724040502828583  accuracy: 52.032272063876405\n",
            "Iteration: 900   cost: 0.664637961986804  accuracy: 52.43837942098481\n",
            "Iteration: 1000   cost: 0.26283640990252854  accuracy: 81.46679692626545\n",
            "Iteration: 1100   cost: 0.23964174229380766  accuracy: 84.83737932873788\n",
            "Iteration: 1200   cost: 0.21219939358853546  accuracy: 85.8014424554063\n",
            "Iteration: 1300   cost: 0.1746737619365835  accuracy: 87.94699568640905\n",
            "Iteration: 1400   cost: 0.16719425481312766  accuracy: 88.75801836489546\n",
            "Iteration: 1500   cost: 0.16479120209332515  accuracy: 89.05441617746294\n",
            "Iteration: 1600   cost: 0.163616962619572  accuracy: 89.19917545126259\n",
            "Iteration: 1700   cost: 0.16280747640446439  accuracy: 89.27309549655669\n",
            "Iteration: 1800   cost: 0.16218431785680806  accuracy: 89.31425924383852\n",
            "Iteration: 1900   cost: 0.16168789854739912  accuracy: 89.33999583463881\n",
            "Iteration: 1999   cost: 0.16131048462801814  accuracy: 89.35809290076298\n"
          ],
          "name": "stdout"
        }
      ]
    },
    {
      "cell_type": "code",
      "metadata": {
        "id": "9VXIbM_RBuJu"
      },
      "source": [
        "# Q5_graded\n",
        "\n",
        "# MNIST data loading || Multiclass classification\n",
        "\n",
        "from keras.datasets import mnist\n",
        "from keras.utils import np_utils\n",
        "(x_train, y_train), (x_test, y_test) = mnist.load_data()\n",
        "\n",
        "# Global constants\n",
        "N_TRAIN, HEIGHT, WIDTH = x_train.shape\n",
        "N_TEST = x_test.shape[0]\n",
        "\n",
        "# Data preprocessing\n",
        "x_train_flatten = x_train.reshape(N_TRAIN, -1).T\n",
        "y_train_flatten = y_train.reshape(N_TRAIN, -1)\n",
        "x_test_flatten = x_test.reshape(N_TEST, -1).T\n",
        "y_test_flatten = y_test.reshape(N_TEST, -1)\n",
        "\n",
        "# Normalize data\n",
        "X_train = x_train_flatten.astype('float32') / 255\n",
        "X_test = x_test_flatten.astype('float32') / 255\n",
        "\n",
        "# Categorize output into 10 classes\n",
        "Y_train = np_utils.to_categorical(y_train_flatten, N_CLASS).T\n",
        "Y_test = np_utils.to_categorical(y_test_flatten, N_CLASS).T"
      ],
      "execution_count": 33,
      "outputs": []
    },
    {
      "cell_type": "code",
      "metadata": {
        "colab": {
          "base_uri": "https://localhost:8080/"
        },
        "id": "1Tm3y5euDptR",
        "outputId": "d8f6bbc1-4a8e-48e5-aa00-d9e5bbda6542"
      },
      "source": [
        "# Q5_graded\n",
        "\n",
        "# MNIST train\n",
        "\n",
        "N_FEATURE = WIDTH * HEIGHT\n",
        "N_HIDDEN = 128\n",
        "N_CLASS = 10\n",
        "LAYERS = [N_FEATURE, N_HIDDEN, N_CLASS]\n",
        "N_EPOCH = 2000\n",
        "LEARNING_RATE = 0.2\n",
        "REPORT_MOD = 100\n",
        "\n",
        "parameters, report = model(X_train, Y_train, LAYERS, N_EPOCH, LEARNING_RATE, REPORT_MOD)"
      ],
      "execution_count": 34,
      "outputs": [
        {
          "output_type": "stream",
          "text": [
            "Iteration: 0   cost: 3.2502600649135585  accuracy: 0.10895\n",
            "Iteration: 100   cost: 0.8501178338403763  accuracy: 0.8696666666666667\n",
            "Iteration: 200   cost: 0.6092740182870154  accuracy: 0.9001\n",
            "Iteration: 300   cost: 0.5359626029897646  accuracy: 0.91015\n",
            "Iteration: 400   cost: 0.4931012474830388  accuracy: 0.9174\n",
            "Iteration: 500   cost: 0.4599184027659867  accuracy: 0.9232666666666667\n",
            "Iteration: 600   cost: 0.4306289515657109  accuracy: 0.92805\n",
            "Iteration: 700   cost: 0.4037665485262517  accuracy: 0.9329\n",
            "Iteration: 800   cost: 0.3793788027293249  accuracy: 0.9373666666666667\n",
            "Iteration: 900   cost: 0.35746158408357404  accuracy: 0.9413\n",
            "Iteration: 1000   cost: 0.3376955677283267  accuracy: 0.9452\n",
            "Iteration: 1100   cost: 0.31986970548265875  accuracy: 0.94845\n",
            "Iteration: 1200   cost: 0.30363875120354056  accuracy: 0.95125\n",
            "Iteration: 1300   cost: 0.288761500148683  accuracy: 0.9535833333333333\n",
            "Iteration: 1400   cost: 0.2750771695601287  accuracy: 0.9557166666666667\n",
            "Iteration: 1500   cost: 0.2624491804184663  accuracy: 0.9578333333333333\n",
            "Iteration: 1600   cost: 0.2507330331532067  accuracy: 0.96\n",
            "Iteration: 1700   cost: 0.239936680315614  accuracy: 0.9617333333333333\n",
            "Iteration: 1800   cost: 0.22994939656748462  accuracy: 0.9633833333333334\n",
            "Iteration: 1900   cost: 0.22069461573460492  accuracy: 0.9648666666666667\n",
            "Iteration: 1999   cost: 0.2121955345140422  accuracy: 0.9665166666666667\n"
          ],
          "name": "stdout"
        }
      ]
    },
    {
      "cell_type": "code",
      "metadata": {
        "colab": {
          "base_uri": "https://localhost:8080/",
          "height": 295
        },
        "id": "sRAGHMKpD9fz",
        "outputId": "6f879107-431c-43e5-baa7-382411711a1b"
      },
      "source": [
        "# Q5_graded\n",
        "\n",
        "# Accuracy plot\n",
        "\n",
        "plt.plot(report['accuracies'])\n",
        "plt.title('Model accuracy')\n",
        "plt.ylabel('accuracy')\n",
        "plt.xlabel('iteration')\n",
        "plt.show()"
      ],
      "execution_count": 35,
      "outputs": [
        {
          "output_type": "display_data",
          "data": {
            "image/png": "[encoded data removed]",
            "text/plain": [
              "<Figure size 432x288 with 1 Axes>"
            ]
          },
          "metadata": {
            "tags": [],
            "needs_background": "light"
          }
        }
      ]
    },
    {
      "cell_type": "code",
      "metadata": {
        "colab": {
          "base_uri": "https://localhost:8080/",
          "height": 295
        },
        "id": "SQr0zM0MEI9S",
        "outputId": "9df9f534-f620-4e81-8c31-768e27b9c961"
      },
      "source": [
        "# Q5_graded\n",
        "\n",
        "# Cost plot\n",
        "\n",
        "plt.plot(report['costs'])\n",
        "plt.title('Model cost')\n",
        "plt.ylabel('cost')\n",
        "plt.xlabel('iteration')\n",
        "plt.show()"
      ],
      "execution_count": 38,
      "outputs": [
        {
          "output_type": "display_data",
          "data": {
            "image/png": "[encoded data removed]",
            "text/plain": [
              "<Figure size 432x288 with 1 Axes>"
            ]
          },
          "metadata": {
            "tags": [],
            "needs_background": "light"
          }
        }
      ]
    },
    {
      "cell_type": "code",
      "metadata": {
        "colab": {
          "base_uri": "https://localhost:8080/"
        },
        "id": "ohZpk2ZVJ4Ga",
        "outputId": "abada6ad-65a4-4961-facb-44c9ddf6d250"
      },
      "source": [
        "# Q5_graded\n",
        "\n",
        "# MNIST test\n",
        "\n",
        "y_predict, cache = forwardPropagate(X_test, parameters)\n",
        "test_accuracy = computeAccuracy(y_predict, Y_test)\n",
        "loss, test_cost = CEE(y_predict, Y_test)\n",
        "print('Accuracy on test dataset:', test_accuracy)\n",
        "print('Cost on test dataset:', test_cost)"
      ],
      "execution_count": 40,
      "outputs": [
        {
          "output_type": "stream",
          "text": [
            "Accuracy on test dataset: 0.9623\n",
            "Cost on test dataset: 0.2286839220695887\n"
          ],
          "name": "stdout"
        }
      ]
    },
    {
      "cell_type": "markdown",
      "metadata": {
        "id": "iRqYhKw1rgUp"
      },
      "source": [
        "# <font color='red'>Submission</font>\n",
        "\n",
        "1. Sign up in [Gradescope](https://www.gradescope.com) with proper name and student ID and use the following code to join the class: <font color='red'>**D5372R**</font>\n",
        "2. Fill in your full name (seperated by single spaces) and student ID in the beginning of this notebook.\n",
        "3. After you're done with this notebook, you should do the following:\n",
        "  - Clear all outputs of the notebook.\n",
        "  ![clear all outputs](https://i.ibb.co/y6FrttB/Screen-Shot-2021-03-21-at-01-51-42.png)\n",
        "  - Run all of the cells (if you skipped a question just leave the cell unchanged), and make sure all of your outputs are correct.\n",
        "  ![run all](https://i.ibb.co/cgRcBZ0/Screen-Shot-2021-03-21-at-01-54-58.png)\n",
        "  - Save your notebook.\n",
        "  \n",
        "  - If you're using Colab, download your notebook.\n",
        "  ![download ipynb](https://i.ibb.co/2KxYM6K/Screen-Shot-2021-03-21-at-02-03-50.png)\n",
        "  \n",
        "  - Put the notebook file you just downloaded and `convert.py` in the same folder run the following command:\n",
        "  ```bash\n",
        "  python convert.py\n",
        "  ```\n",
        "  This will export your code for each question into a `.py` file.\n",
        "    - **Note**: if you want to add more cells, add this to the **first** line of the cell:\n",
        "  ```python\n",
        "  # Q5_graded\n",
        "  ```\n",
        "  according to the question number.\n",
        "  - There are 2 assignments in Gradescope:\n",
        "\n",
        "    ![assignments](https://i.ibb.co/10GMhGM/Screen-Shot-2021-03-21-at-02-16-25.png)\n",
        "  \n",
        "    You should upload your **codes** and your **notebook** in `HW1` section and your final report for all of the questions as a **single pdf** file in `HW1 - Report`. Autograder will automatically check for:\n",
        "    - `CI992_HW1.ipynb`\n",
        "    - `Q1.py`\n",
        "    - `Q2.py`\n",
        "    - `Q4.py`\n",
        "    - `Q5.py`\n",
        "    - Your name and ID in the beginning of `.ipynb` file.\n",
        "\n",
        "    It is important that you <font color='red'>**don't**</font> change the names of these files before submission.\n",
        "\n",
        "4. If you pass the autograder, you're good to go."
      ]
    },
    {
      "cell_type": "code",
      "metadata": {
        "id": "bEgumj_rqxKk"
      },
      "source": [
        ""
      ],
      "execution_count": null,
      "outputs": []
    }
  ]
}